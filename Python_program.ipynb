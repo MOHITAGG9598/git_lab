{
 "cells": [
  {
   "cell_type": "markdown",
   "id": "9c0fe298",
   "metadata": {},
   "source": [
    "Check given no is even or odd."
   ]
  },
  {
   "cell_type": "code",
   "execution_count": 1,
   "id": "3f0409f5",
   "metadata": {},
   "outputs": [
    {
     "name": "stdout",
     "output_type": "stream",
     "text": [
      "Enter a number:5\n",
      "Given no 5 is odd\n"
     ]
    }
   ],
   "source": [
    "Num=int(input(\"Enter a number:\"))\n",
    "if Num%2==0:\n",
    "    print(\"Given no\",Num,\"is even\")\n",
    "else:\n",
    "    print(\"Given no\",Num,\"is odd\")"
   ]
  },
  {
   "cell_type": "code",
   "execution_count": null,
   "id": "d0a96de6",
   "metadata": {},
   "outputs": [],
   "source": []
  }
 ],
 "metadata": {
  "kernelspec": {
   "display_name": "Python 3 (ipykernel)",
   "language": "python",
   "name": "python3"
  },
  "language_info": {
   "codemirror_mode": {
    "name": "ipython",
    "version": 3
   },
   "file_extension": ".py",
   "mimetype": "text/x-python",
   "name": "python",
   "nbconvert_exporter": "python",
   "pygments_lexer": "ipython3",
   "version": "3.9.13"
  }
 },
 "nbformat": 4,
 "nbformat_minor": 5
}
